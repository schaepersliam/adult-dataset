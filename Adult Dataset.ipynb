{
 "cells": [
  {
   "cell_type": "markdown",
   "metadata": {},
   "source": [
    "# Adult Dataset\n",
    "In this notebook we will discover the adult dataset provided by [UCI Machine Learning Libary](https://archive.ics.uci.edu/ml/index.php)\n",
    "and make some predictions on it, so you can test if you estimated income is **over**,**below**or **exactly** 50K$ per year.\n",
    "\n",
    "## Importing the libarys"
   ]
  },
  {
   "cell_type": "code",
   "execution_count": 190,
   "metadata": {},
   "outputs": [],
   "source": [
    "import pandas as pd\n",
    "import numpy as np\n",
    "from sklearn.tree import DecisionTreeClassifier"
   ]
  },
  {
   "cell_type": "markdown",
   "metadata": {},
   "source": [
    "## Importing the data\n",
    "Here we import the data from the dataset you can find [here](https://archive.ics.uci.edu/ml/datasets/Census+Income)."
   ]
  },
  {
   "cell_type": "code",
   "execution_count": 191,
   "metadata": {},
   "outputs": [],
   "source": [
    "columns = [\"Age\", \"Workclass\", \"fnlwgt\", \"Education\", \"Education-Num\", \"Martial Status\",\n",
    "           \"Occupation\", \"Relationship\", \"Race\", \"Sex\", \"Capital Gain\", \"Capital Loss\",\n",
    "           \"Hours per week\", \"Country\", \"Income\"]\n",
    "\n",
    "train_data_in = pd.read_csv('Adult_Dataset/adult.data.txt',names=columns,engine='python',na_values=' ?',keep_default_na=False)\n",
    "test_data_in = pd.read_csv('Adult_Dataset/adult.test.txt',names=columns,engine='python',na_values=' ?',keep_default_na=False)\n",
    "train_data_in.dropna(inplace=True)\n",
    "test_data_in.dropna(inplace=True)"
   ]
  },
  {
   "cell_type": "markdown",
   "metadata": {},
   "source": [
    "Now we delte the label column(Income) from the train_x dataframe."
   ]
  },
  {
   "cell_type": "code",
   "execution_count": 192,
   "metadata": {},
   "outputs": [],
   "source": [
    "train_x = pd.DataFrame(train_data_in,columns=columns)\n",
    "del train_x['Income']"
   ]
  },
  {
   "cell_type": "markdown",
   "metadata": {},
   "source": [
    "Then we create a new dataframe for the labels for the training data."
   ]
  },
  {
   "cell_type": "code",
   "execution_count": 193,
   "metadata": {
    "scrolled": true
   },
   "outputs": [
    {
     "data": {
      "text/html": [
       "<div>\n",
       "<style scoped>\n",
       "    .dataframe tbody tr th:only-of-type {\n",
       "        vertical-align: middle;\n",
       "    }\n",
       "\n",
       "    .dataframe tbody tr th {\n",
       "        vertical-align: top;\n",
       "    }\n",
       "\n",
       "    .dataframe thead th {\n",
       "        text-align: right;\n",
       "    }\n",
       "</style>\n",
       "<table border=\"1\" class=\"dataframe\">\n",
       "  <thead>\n",
       "    <tr style=\"text-align: right;\">\n",
       "      <th></th>\n",
       "      <th>Income</th>\n",
       "    </tr>\n",
       "  </thead>\n",
       "  <tbody>\n",
       "    <tr>\n",
       "      <th>32556</th>\n",
       "      <td>&lt;=50K</td>\n",
       "    </tr>\n",
       "    <tr>\n",
       "      <th>32557</th>\n",
       "      <td>&gt;50K</td>\n",
       "    </tr>\n",
       "    <tr>\n",
       "      <th>32558</th>\n",
       "      <td>&lt;=50K</td>\n",
       "    </tr>\n",
       "    <tr>\n",
       "      <th>32559</th>\n",
       "      <td>&lt;=50K</td>\n",
       "    </tr>\n",
       "    <tr>\n",
       "      <th>32560</th>\n",
       "      <td>&gt;50K</td>\n",
       "    </tr>\n",
       "  </tbody>\n",
       "</table>\n",
       "</div>"
      ],
      "text/plain": [
       "       Income\n",
       "32556   <=50K\n",
       "32557    >50K\n",
       "32558   <=50K\n",
       "32559   <=50K\n",
       "32560    >50K"
      ]
     },
     "execution_count": 193,
     "metadata": {},
     "output_type": "execute_result"
    }
   ],
   "source": [
    "train_y = pd.DataFrame(train_data_in[\"Income\"],columns=['Income'])\n",
    "train_y.tail()"
   ]
  },
  {
   "cell_type": "markdown",
   "metadata": {},
   "source": [
    "Now we do the same for the testing data."
   ]
  },
  {
   "cell_type": "code",
   "execution_count": 194,
   "metadata": {
    "scrolled": true
   },
   "outputs": [
    {
     "data": {
      "text/plain": [
       "0     <=50K\n",
       "1     <=50K\n",
       "2      >50K\n",
       "3      >50K\n",
       "5     <=50K\n",
       "Name: Income, dtype: object"
      ]
     },
     "execution_count": 194,
     "metadata": {},
     "output_type": "execute_result"
    }
   ],
   "source": [
    "test_x = pd.DataFrame(test_data_in,columns=columns)\n",
    "del test_x['Income']\n",
    "test_y = pd.DataFrame(test_data_in['Income'],columns=['Income'])\n",
    "test_y = test_y['Income'].astype(str).str[:-1]\n",
    "test_y.head()"
   ]
  },
  {
   "cell_type": "markdown",
   "metadata": {},
   "source": [
    "## Encoding the features\n",
    "Here we encode the features to numbers, because the compiler can work better with numbers(integers or floats) than with strings."
   ]
  },
  {
   "cell_type": "code",
   "execution_count": 195,
   "metadata": {},
   "outputs": [],
   "source": [
    "workclass = [' Private', ' Self-emp-not-inc', ' Self-emp-inc', ' Federal-gov', ' Local-gov', ' State-gov', ' Without-pay', ' Never-worked']\n",
    "education = [' Bachelors', ' Some-college', ' 11th', ' HS-grad', ' Prof-school', ' Assoc-acdm', ' Assoc-voc', ' 9th', ' 7th-8th', ' 12th', ' Masters', ' 1st-4th', ' 10th', ' Doctorate', ' 5th-6th', ' Preschool']\n",
    "marital_status = [' Married-civ-spouse', ' Divorced', ' Never-married', ' Separated', ' Widowed', ' Married-spouse-absent', ' Married-AF-spouse']\n",
    "occupation = [' Tech-support', ' Craft-repair', ' Other-service', ' Sales', ' Exec-managerial', ' Prof-specialty', ' Handlers-cleaners', ' Machine-op-inspct', ' Adm-clerical', ' Farming-fishing', ' Transport-moving', ' Priv-house-serv', ' Protective-serv', ' Armed-Forces']\n",
    "relationship = [' Wife', ' Own-child', ' Husband', ' Not-in-family', ' Other-relative', ' Unmarried']\n",
    "race = [' White', ' Asian-Pac-Islander', ' Amer-Indian-Eskimo', ' Other', ' Black']\n",
    "sex = [' Female',' Male']\n",
    "native_country = [' United-States', ' Cambodia', ' England', ' Puerto-Rico', ' Canada', ' Germany', ' Outlying-US(Guam-USVI-etc)', ' India', ' Japan', ' Greece', ' South', ' China', ' Cuba', ' Iran', ' Honduras', ' Philippines', ' Italy', ' Poland', ' Jamaica', ' Vietnam', ' Mexico', ' Portugal', ' Ireland', ' France', ' Dominican-Republic', ' Laos', ' Ecuador', ' Taiwan', ' Haiti', ' Columbia', ' Hungary', ' Guatemala', ' Nicaragua', ' Scotland', ' Thailand', ' Yugoslavia', ' El-Salvador', ' Trinadad&Tobago', ' Peru', ' Hong', ' Holand-Netherlands']\n",
    "\n",
    "def number_encode_features(dtf):\n",
    "    in_age = []\n",
    "    in_workclass = []\n",
    "    in_fnlwgt = []\n",
    "    in_education = []\n",
    "    in_education_num = []\n",
    "    in_marital_status = []\n",
    "    in_occupation = []\n",
    "    in_relationship = []\n",
    "    in_race = []\n",
    "    in_sex = []\n",
    "    in_capital_gain = []\n",
    "    in_capital_loss = []\n",
    "    in_hours_per_week = []\n",
    "    in_native_country = []\n",
    "    for e in columns[:-1]:\n",
    "        if e == 'Age':\n",
    "            for i in dtf[e]:\n",
    "                in_age.append(int(i))\n",
    "        if e == 'Hours per week':\n",
    "            for i in dtf[e]:\n",
    "                in_hours_per_week.append(int(i))\n",
    "        if e == 'fnlwgt':\n",
    "            for i in dtf[e]:\n",
    "                in_fnlwgt.append(int(i))\n",
    "        if e == 'Education-Num':\n",
    "            for i in dtf[e]:\n",
    "                in_education_num.append(int(i))\n",
    "        if e == 'Capital Gain':\n",
    "            for i in dtf[e]:\n",
    "                in_capital_gain.append(int(i))\n",
    "        if e == 'Capital Loss':\n",
    "            for i in dtf[e]:\n",
    "                in_capital_loss.append(int(i))\n",
    "        if e == 'Workclass':\n",
    "            for i in dtf[e]:\n",
    "                in_workclass.append(workclass.index(i))\n",
    "        if e == 'Education':\n",
    "            for i in dtf[e]:\n",
    "                in_education.append(education.index(i))\n",
    "        if e == 'Martial Status':\n",
    "            for i in dtf[e]:\n",
    "                in_marital_status.append(marital_status.index(i))\n",
    "        if e == 'Occupation':\n",
    "            for i in dtf[e]:\n",
    "                in_occupation.append(occupation.index(i))\n",
    "        if e == 'Relationship':\n",
    "            for i in dtf[e]:\n",
    "                in_relationship.append(relationship.index(i))\n",
    "        if e == 'Race':\n",
    "            for i in dtf[e]:\n",
    "                in_race.append(race.index(i))\n",
    "        if e == 'Sex':\n",
    "            for i in dtf[e]:\n",
    "                in_sex.append(sex.index(i))\n",
    "        if e == 'Country':\n",
    "            for i in dtf[e]:\n",
    "                in_native_country.append(native_country.index(i))\n",
    "    df = pd.DataFrame({columns[0]:in_age,\n",
    "                       columns[1]:in_workclass,\n",
    "                       columns[2]:in_fnlwgt,\n",
    "                       columns[3]:in_education,\n",
    "                       columns[4]:in_education_num,\n",
    "                       columns[5]:in_marital_status,\n",
    "                       columns[6]:in_occupation,\n",
    "                       columns[7]:in_relationship,\n",
    "                       columns[8]:in_race,\n",
    "                       columns[9]:in_sex,\n",
    "                       columns[10]:in_capital_gain,\n",
    "                       columns[11]:in_capital_loss,\n",
    "                       columns[12]:in_hours_per_week,\n",
    "                       columns[13]:in_native_country})\n",
    "    return df\n",
    "\n",
    "train_x = number_encode_features(train_x)\n",
    "test_x = number_encode_features(test_x)"
   ]
  },
  {
   "cell_type": "markdown",
   "metadata": {},
   "source": [
    "## Defining the classifier\n",
    "Now it's time to define the classifier. For this dataset we use the DecisionTreeClassifer with the following settings:"
   ]
  },
  {
   "cell_type": "code",
   "execution_count": 196,
   "metadata": {
    "scrolled": false
   },
   "outputs": [
    {
     "data": {
      "text/plain": [
       "DecisionTreeClassifier(class_weight=None, criterion='entropy', max_depth=None,\n",
       "            max_features=None, max_leaf_nodes=None,\n",
       "            min_impurity_decrease=0.0, min_impurity_split=None,\n",
       "            min_samples_leaf=10, min_samples_split=40,\n",
       "            min_weight_fraction_leaf=0.0, presort=False, random_state=None,\n",
       "            splitter='best')"
      ]
     },
     "execution_count": 196,
     "metadata": {},
     "output_type": "execute_result"
    }
   ],
   "source": [
    "clf = DecisionTreeClassifier(criterion='entropy',min_samples_split=40,min_samples_leaf=10)\n",
    "clf.fit(train_x,train_y)"
   ]
  },
  {
   "cell_type": "code",
   "execution_count": 197,
   "metadata": {
    "scrolled": false
   },
   "outputs": [
    {
     "name": "stdout",
     "output_type": "stream",
     "text": [
      "Accuracy: 0.841633466135\n"
     ]
    }
   ],
   "source": [
    "accuracy = clf.score(test_x,test_y)\n",
    "print(\"Accuracy: \" + str(accuracy))"
   ]
  },
  {
   "cell_type": "markdown",
   "metadata": {},
   "source": [
    "## Predictions on the data\n",
    "Here we can predict our own estimated income. We write our own data in a .txt file called 'self_test.txt'. You can replace it with your own data of course too."
   ]
  },
  {
   "cell_type": "code",
   "execution_count": 198,
   "metadata": {
    "scrolled": true
   },
   "outputs": [
    {
     "name": "stdout",
     "output_type": "stream",
     "text": [
      "Your estimated income is above 50K$/yr!\n"
     ]
    }
   ],
   "source": [
    "prediction_attr = pd.read_csv('Adult_Dataset/self_test.txt',names=columns,engine='python')\n",
    "prediction_attr = number_encode_features(prediction_attr)\n",
    "prediction = clf.predict(prediction_attr)\n",
    "\n",
    "if prediction == \" >50K\":\n",
    "    print(\"Your estimated income is above 50K$/yr!\")\n",
    "else:\n",
    "    print(\"Your estimated income is below or exactly 50K$/yr!\")"
   ]
  }
 ],
 "metadata": {
  "kernelspec": {
   "display_name": "Python 2",
   "language": "python",
   "name": "python2"
  },
  "language_info": {
   "codemirror_mode": {
    "name": "ipython",
    "version": 2
   },
   "file_extension": ".py",
   "mimetype": "text/x-python",
   "name": "python",
   "nbconvert_exporter": "python",
   "pygments_lexer": "ipython2",
   "version": "2.7.14"
  }
 },
 "nbformat": 4,
 "nbformat_minor": 2
}
